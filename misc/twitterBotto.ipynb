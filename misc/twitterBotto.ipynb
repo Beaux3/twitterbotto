{
 "cells": [
  {
   "cell_type": "code",
   "execution_count": 12,
   "id": "9c7c46b5",
   "metadata": {},
   "outputs": [],
   "source": [
    "import tweepy\n",
    "import pandas as pd\n",
    "import math\n",
    "class TwitterController():\n",
    "    def __init__(self,twitter_user=None):\n",
    "        auth = tweepy.OAuthHandler(\"JDvtgsgZCbLUtgdTKAhsx6OSV\",\"cr2tQMQYYbtVP34El92bQZUKXnyMdx6Bjc88x3ZsbKDq46ppTK\")\n",
    "        auth.set_access_token(\"1413059952298528771-BfKsDMv6rQjqBCyg99beIYtq2ffjwh\",\"nGxGB3Wwp8soCgxzjfVQxNt9tgpkRJODlB0bp0jGhnllp\")\n",
    "        self.auth = auth\n",
    "        self.twitter_controller = tweepy.API(self.auth,wait_on_rate_limit=True,wait_on_rate_limit_notify=True)\n",
    "        self.twitter_user = twitter_user\n",
    "\n",
    "    def get_timeline_tweets(self):\n",
    "        #Returns tweets of user's timeline in a list\n",
    "        tweets = []\n",
    "        for tweet in tweepy.Cursor(self.twitter_controller.user_timeline,id=self.twitter_user).items():\n",
    "            tweets.append(tweet)\n",
    "        return tweets\n",
    "    def get_following_list(self):\n",
    "        following_list = []\n",
    "        for friend in tweepy.Cursor(self.twitter_controller.friends,count=200,id=self.twitter_user).items():\n",
    "            following_list.append(friend)\n",
    "        return following_list\n",
    "    def get_selected_following(self,user):\n",
    "        following_list = []\n",
    "        for friend in tweepy.Cursor(self.twitter_controller.friends,count=200, id=user).items():\n",
    "            following_list.append(friend)\n",
    "        return following_list\n",
    "    def get_followers(self):\n",
    "        follower_list = []\n",
    "        for follower in tweepy.Cursor(self.twitter_controller.followers,count=200,id=self.twitter_user).items():\n",
    "            follower_list.append(follower)\n",
    "        return follower_list\n",
    "    def get_selected_followers(self,user):\n",
    "        follower_list = []\n",
    "        for follower in tweepy.Cursor(self.twitter_controller.followers,count=200,id=user).items():\n",
    "            follower_list.append(follower)\n",
    "        return follower_list\n",
    "    def get_user_info(self,user):\n",
    "        return self.twitter_controller.get_user(user)\n",
    "    def get_follower_id(self,user=None):\n",
    "        follower_id_list = []\n",
    "        for follower in tweepy.Cursor(self.twitter_controller.followers_ids,count=5000,id=user).items():\n",
    "            follower_id_list.append(follower)\n",
    "        return follower_id_list\n",
    "    def get_relationship(self,src,target):\n",
    "        return self.twitter_controller.show_friendship(src,target)\n"
   ]
  },
  {
   "cell_type": "code",
   "execution_count": 13,
   "id": "5d1d61cd",
   "metadata": {},
   "outputs": [],
   "source": [
    "twitter_client = TwitterController()"
   ]
  },
  {
   "cell_type": "code",
   "execution_count": 14,
   "id": "e64b154a",
   "metadata": {},
   "outputs": [],
   "source": [
    "acc1 = twitter_client.get_follower_id(\"SadFrogsD\")"
   ]
  },
  {
   "cell_type": "code",
   "execution_count": 15,
   "id": "eff021f6",
   "metadata": {},
   "outputs": [
    {
     "name": "stderr",
     "output_type": "stream",
     "text": [
      "Rate limit reached. Sleeping for: 450\n"
     ]
    }
   ],
   "source": [
    "acc2 = twitter_client.get_follower_id(\"DegenApeAcademy\")"
   ]
  },
  {
   "cell_type": "code",
   "execution_count": 16,
   "id": "a1a998c7",
   "metadata": {},
   "outputs": [],
   "source": [
    "acc3 = twitter_client.get_follower_id(\"BoredMummyWU\")"
   ]
  },
  {
   "cell_type": "code",
   "execution_count": 17,
   "id": "53099867",
   "metadata": {},
   "outputs": [],
   "source": [
    "acc4 = twitter_client.get_follower_id(\"ParallelNFT\")"
   ]
  },
  {
   "cell_type": "code",
   "execution_count": 18,
   "id": "b24d1b20",
   "metadata": {},
   "outputs": [],
   "source": [
    "result = set(acc4)"
   ]
  },
  {
   "cell_type": "code",
   "execution_count": 19,
   "id": "7def7433",
   "metadata": {},
   "outputs": [],
   "source": [
    "set1 = set(acc1)\n",
    "set2 = set(acc2)\n",
    "set3 = set(acc3)"
   ]
  },
  {
   "cell_type": "code",
   "execution_count": 9,
   "id": "69e4919b",
   "metadata": {},
   "outputs": [],
   "source": []
  },
  {
   "cell_type": "code",
   "execution_count": 20,
   "id": "a7c13daa",
   "metadata": {},
   "outputs": [],
   "source": [
    "common_element = result.intersection(set1,set2,set3)\n",
    "common_list = []\n",
    "for i in common_element:\n",
    "    common_list.append(i)"
   ]
  },
  {
   "cell_type": "code",
   "execution_count": 22,
   "id": "67dfa27f",
   "metadata": {},
   "outputs": [
    {
     "name": "stdout",
     "output_type": "stream",
     "text": [
      "101 mutuals found. Continue Y/N?\n",
      "Y\n",
      "ok\n"
     ]
    }
   ],
   "source": [
    "print(str(len(common_list))+\" mutuals found. Continue Y/N?\")\n",
    "choice = input()\n",
    "if choice == \"Y\":\n",
    "    print(\"ok\")\n",
    "else:\n",
    "    exit()"
   ]
  },
  {
   "cell_type": "code",
   "execution_count": 23,
   "id": "15398543",
   "metadata": {},
   "outputs": [],
   "source": [
    "from datetime import datetime"
   ]
  },
  {
   "cell_type": "code",
   "execution_count": 24,
   "id": "2293810d",
   "metadata": {},
   "outputs": [],
   "source": [
    "user_list = []\n",
    "for i in common_element:\n",
    "    user = twitter_client.get_user_info(i)\n",
    "    user_list.append(user)"
   ]
  },
  {
   "cell_type": "code",
   "execution_count": null,
   "id": "4673cc5e",
   "metadata": {},
   "outputs": [],
   "source": [
    "diction_list = []\n",
    "for i in user_list:\n",
    "    screen_name_list = []\n",
    "    following_count = []\n",
    "    follower_count = []\n",
    "    created_list = []\n",
    "    screen_name_list.append(i.screen_name)\n",
    "    follower_count.append(i.followers_count)\n",
    "    created_list.append(i.created_at)\n",
    "    date_time = i.created_at.strftime(\"%m/%d/%Y, %H:%M:%S\")\n",
    "    diction_item = {\n",
    "        'Screen Name': i.screen_name,\n",
    "        'Follower Count': i.followers_count,\n",
    "        'Following Count': i.friends_count,\n",
    "        'Created Date': date_time\n",
    "    }\n",
    "    diction_list.append(diction_item)"
   ]
  },
  {
   "cell_type": "code",
   "execution_count": null,
   "id": "347a69b3",
   "metadata": {
    "scrolled": true
   },
   "outputs": [],
   "source": [
    "mutuals = pd.DataFrame(diction_list).sort_values(['Following Count'],ascending=True)"
   ]
  },
  {
   "cell_type": "code",
   "execution_count": null,
   "id": "c4eaeeae",
   "metadata": {},
   "outputs": [],
   "source": [
    "mutuals.to_csv(\"mutual_following_ascending.csv\")"
   ]
  },
  {
   "cell_type": "code",
   "execution_count": null,
   "id": "c69e0d6c",
   "metadata": {},
   "outputs": [],
   "source": [
    "mutuals.head()"
   ]
  },
  {
   "cell_type": "code",
   "execution_count": null,
   "id": "48a3f496",
   "metadata": {},
   "outputs": [],
   "source": [
    "relation = twitter_client.get_relationship(\"sampepper\",\"DegenApeAcademy\")"
   ]
  },
  {
   "cell_type": "code",
   "execution_count": null,
   "id": "57ca2b59",
   "metadata": {},
   "outputs": [],
   "source": [
    "select = twitter_client.get_selected_following(\"SadFrogsD\")"
   ]
  },
  {
   "cell_type": "code",
   "execution_count": null,
   "id": "f1f7d577",
   "metadata": {},
   "outputs": [],
   "source": []
  }
 ],
 "metadata": {
  "kernelspec": {
   "display_name": "Python 3",
   "language": "python",
   "name": "python3"
  },
  "language_info": {
   "codemirror_mode": {
    "name": "ipython",
    "version": 3
   },
   "file_extension": ".py",
   "mimetype": "text/x-python",
   "name": "python",
   "nbconvert_exporter": "python",
   "pygments_lexer": "ipython3",
   "version": "3.8.8"
  }
 },
 "nbformat": 4,
 "nbformat_minor": 5
}
